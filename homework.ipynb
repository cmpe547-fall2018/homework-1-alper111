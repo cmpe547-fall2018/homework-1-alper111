{
 "cells": [
  {
   "cell_type": "markdown",
   "metadata": {},
   "source": [
    "## booklet question 9"
   ]
  },
  {
   "cell_type": "code",
   "execution_count": 82,
   "metadata": {},
   "outputs": [],
   "source": [
    "import numpy as np\n",
    "import matplotlib.pyplot as plt\n",
    "from scipy.special import gammaln"
   ]
  },
  {
   "cell_type": "code",
   "execution_count": 76,
   "metadata": {},
   "outputs": [],
   "source": [
    "def dirichlet_pdf(x, priors):\n",
    "    x = np.array(x)\n",
    "    x[x==0] += 1e-8\n",
    "    x[x==1] -= 1e-8\n",
    "    priors = np.array(priors)\n",
    "    Z = np.sum(gammaln(priors)) - gammaln(np.sum(priors))\n",
    "    loglikelihood = ((priors-1) * np.log(x)).sum(axis=1)\n",
    "    posterior = loglikelihood - Z\n",
    "    return np.exp(posterior)"
   ]
  },
  {
   "cell_type": "code",
   "execution_count": 73,
   "metadata": {},
   "outputs": [],
   "source": [
    "A = np.array([6, 4, 3, 2, 1, 1, 1, 1, 1, 1e-48])\n",
    "B = np.array([3, 3, 2, 2, 2, 2, 2, 2, 1, 1])\n",
    "C = np.ones(10)\n",
    "log_pdf_A = np.log(A / np.sum(A))\n",
    "log_pdf_B = np.log(B / np.sum(B))\n",
    "log_pdf_C = np.log(C / np.sum(C))"
   ]
  },
  {
   "cell_type": "code",
   "execution_count": 67,
   "metadata": {},
   "outputs": [],
   "source": [
    "def one_hot(a, num_classes):\n",
    "    return (np.eye(num_classes)[a.reshape(-1)])"
   ]
  },
  {
   "cell_type": "code",
   "execution_count": 77,
   "metadata": {},
   "outputs": [],
   "source": [
    "# index starts at 0\n",
    "x = np.array([5, 3, 9, 3, 8, 4, 7]) - 1\n",
    "x = one_hot(x, 10)"
   ]
  },
  {
   "cell_type": "code",
   "execution_count": 86,
   "metadata": {},
   "outputs": [
    {
     "name": "stdout",
     "output_type": "stream",
     "text": [
      "prob A: 1.4062500000000018e-08 prob B: 5.000000000000005e-08 prob C: 1.0000000000000029e-07\n"
     ]
    }
   ],
   "source": [
    "pr_A = np.exp((x * log_pdf_A).sum())\n",
    "pr_B = np.exp((x * log_pdf_B).sum())\n",
    "pr_C = np.exp((x * log_pdf_C).sum())\n",
    "print(\"prob A:\", pr_A, \"prob B:\", pr_B, \"prob C:\", pr_C)"
   ]
  },
  {
   "cell_type": "code",
   "execution_count": null,
   "metadata": {},
   "outputs": [],
   "source": []
  }
 ],
 "metadata": {
  "kernelspec": {
   "display_name": "Python 3",
   "language": "python",
   "name": "python3"
  },
  "language_info": {
   "codemirror_mode": {
    "name": "ipython",
    "version": 3
   },
   "file_extension": ".py",
   "mimetype": "text/x-python",
   "name": "python",
   "nbconvert_exporter": "python",
   "pygments_lexer": "ipython3",
   "version": "3.6.5"
  }
 },
 "nbformat": 4,
 "nbformat_minor": 2
}
