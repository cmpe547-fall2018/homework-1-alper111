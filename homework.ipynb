{
 "cells": [
  {
   "cell_type": "markdown",
   "metadata": {},
   "source": [
    "## booklet question 9"
   ]
  },
  {
   "cell_type": "code",
   "execution_count": 1,
   "metadata": {},
   "outputs": [],
   "source": [
    "import numpy as np\n",
    "import matplotlib.pyplot as plt\n",
    "from scipy.special import gammaln"
   ]
  },
  {
   "cell_type": "code",
   "execution_count": 2,
   "metadata": {},
   "outputs": [],
   "source": [
    "def dirichlet_pdf(x, priors):\n",
    "    x = np.array(x)\n",
    "    x[x==0] += 1e-48\n",
    "    x[x==1] -= 1e-48\n",
    "    priors = np.array(priors)\n",
    "    Z = np.sum(gammaln(priors)) - gammaln(np.sum(priors))\n",
    "    loglikelihood = ((priors-1) * np.log(x)).sum(axis=1)\n",
    "    posterior = loglikelihood - Z\n",
    "    return np.exp(posterior)"
   ]
  },
  {
   "cell_type": "code",
   "execution_count": 3,
   "metadata": {},
   "outputs": [],
   "source": [
    "A = np.array([6, 4, 3, 2, 1, 1, 1, 1, 1, 1e-48])\n",
    "B = np.array([3, 3, 2, 2, 2, 2, 2, 2, 1, 1])\n",
    "C = np.ones(10)\n",
    "log_pdf_A = np.log(A / np.sum(A))\n",
    "log_pdf_B = np.log(B / np.sum(B))\n",
    "log_pdf_C = np.log(C / np.sum(C))"
   ]
  },
  {
   "cell_type": "code",
   "execution_count": 4,
   "metadata": {},
   "outputs": [],
   "source": [
    "def one_hot(a, num_classes):\n",
    "    return (np.eye(num_classes)[a.reshape(-1)])"
   ]
  },
  {
   "cell_type": "code",
   "execution_count": 5,
   "metadata": {},
   "outputs": [],
   "source": [
    "# index starts at 0\n",
    "x = np.array([5, 3, 9, 3, 8, 4, 7]) - 1\n",
    "x = one_hot(x, 10)"
   ]
  },
  {
   "cell_type": "code",
   "execution_count": 6,
   "metadata": {},
   "outputs": [
    {
     "name": "stdout",
     "output_type": "stream",
     "text": [
      "prob A: 1.4062500000000018e-08 prob B: 5.000000000000005e-08 prob C: 1.0000000000000029e-07\n"
     ]
    }
   ],
   "source": [
    "pr_A = np.exp((x * log_pdf_A).sum())\n",
    "pr_B = np.exp((x * log_pdf_B).sum())\n",
    "pr_C = np.exp((x * log_pdf_C).sum())\n",
    "print(\"prob A:\", pr_A, \"prob B:\", pr_B, \"prob C:\", pr_C)"
   ]
  },
  {
   "cell_type": "markdown",
   "metadata": {},
   "source": [
    "**unfinished**"
   ]
  },
  {
   "cell_type": "markdown",
   "metadata": {},
   "source": [
    "## booklet question 26"
   ]
  },
  {
   "cell_type": "code",
   "execution_count": 7,
   "metadata": {},
   "outputs": [],
   "source": [
    "X = np.array([1, 2])\n",
    "Y = np.array([-1, 0, 5])\n",
    "p_xy = np.array([[0.3, 0.3, 0.], [0.1, 0.2, 0.1]])"
   ]
  },
  {
   "cell_type": "code",
   "execution_count": 8,
   "metadata": {},
   "outputs": [
    {
     "data": {
      "text/plain": [
       "array([[0.3, 0.3, 0. ],\n",
       "       [0.1, 0.2, 0.1]])"
      ]
     },
     "execution_count": 8,
     "metadata": {},
     "output_type": "execute_result"
    }
   ],
   "source": [
    "p_xy"
   ]
  },
  {
   "cell_type": "markdown",
   "metadata": {},
   "source": [
    "### 1. Expectations"
   ]
  },
  {
   "cell_type": "code",
   "execution_count": 9,
   "metadata": {},
   "outputs": [
    {
     "name": "stdout",
     "output_type": "stream",
     "text": [
      "p(x):\n",
      "[0.6 0.4]\n",
      "p(y):\n",
      "[0.4 0.5 0.1]\n",
      "p(x|y):\n",
      "[[0.75 0.6  0.  ]\n",
      " [0.25 0.4  1.  ]]\n",
      "p(y|x):\n",
      "[[0.5  0.5  0.  ]\n",
      " [0.25 0.5  0.25]]\n"
     ]
    }
   ],
   "source": [
    "p_x = p_xy.sum(axis=1)\n",
    "p_y = p_xy.sum(axis=0)\n",
    "p_x_giveny = p_xy / p_y\n",
    "p_y_givenx = p_xy / p_x.reshape(-1,1)\n",
    "\n",
    "print(\"p(x):\")\n",
    "print(p_x)\n",
    "print(\"p(y):\")\n",
    "print(p_y)\n",
    "print(\"p(x|y):\")\n",
    "print(p_x_giveny)\n",
    "print(\"p(y|x):\")\n",
    "print(p_y_givenx)"
   ]
  },
  {
   "cell_type": "code",
   "execution_count": 10,
   "metadata": {},
   "outputs": [
    {
     "name": "stdout",
     "output_type": "stream",
     "text": [
      "<X>: 1.4\n",
      "<Y>: 0.09999999999999998\n",
      "<X>_p(x|y): [1.25 1.4  2.  ]\n",
      "<Y>_p(y|x): [-0.5  1. ]\n",
      "Cov: 0.36000000000000004\n"
     ]
    }
   ],
   "source": [
    "X_bar = (X * p_x).sum()\n",
    "Y_bar = (Y * p_y).sum()\n",
    "X_bar_giveny = np.matmul(X, p_x_giveny)\n",
    "Y_bar_givenx = np.matmul(p_y_givenx, Y)\n",
    "\n",
    "cov = 0.0\n",
    "for i in range(2):\n",
    "    for j in range(3):\n",
    "        cov += (X[i]-X_bar)*(Y[j]-Y_bar)*p_xy[i,j]\n",
    "\n",
    "print(\"<X>:\", X_bar)\n",
    "print(\"<Y>:\", Y_bar)\n",
    "print(\"<X>_p(x|y):\", X_bar_giveny)\n",
    "print(\"<Y>_p(y|x):\", Y_bar_givenx)\n",
    "print(\"Cov:\", cov)"
   ]
  },
  {
   "cell_type": "markdown",
   "metadata": {},
   "source": [
    "### 2. Joint entropy"
   ]
  },
  {
   "cell_type": "code",
   "execution_count": 11,
   "metadata": {},
   "outputs": [
    {
     "name": "stdout",
     "output_type": "stream",
     "text": [
      "H[x,y] = 1.5048 nats\n"
     ]
    }
   ],
   "source": [
    "H_xy = -(p_xy * np.log(p_xy+1e-48)).sum()\n",
    "print(\"H[x,y] = %.4f nats\" % (H_xy))"
   ]
  },
  {
   "cell_type": "markdown",
   "metadata": {},
   "source": [
    "### 3. Marginal entropies"
   ]
  },
  {
   "cell_type": "code",
   "execution_count": 12,
   "metadata": {},
   "outputs": [
    {
     "name": "stdout",
     "output_type": "stream",
     "text": [
      "H[x] = 0.6730 nats\n",
      "H[y] = 0.9433 nats\n"
     ]
    }
   ],
   "source": [
    "H_x = -(p_x * np.log(p_x)).sum()\n",
    "H_y = -(p_y * np.log(p_y)).sum()\n",
    "print(\"H[x] = %.4f nats\" % (H_x))\n",
    "print(\"H[y] = %.4f nats\" % (H_y))"
   ]
  },
  {
   "cell_type": "markdown",
   "metadata": {},
   "source": [
    "### 4. Conditional entropies"
   ]
  },
  {
   "cell_type": "code",
   "execution_count": 13,
   "metadata": {},
   "outputs": [
    {
     "name": "stdout",
     "output_type": "stream",
     "text": [
      "H[x|y] = 0.5614 nats\n",
      "H[y|x] = 0.8318 nats\n"
     ]
    }
   ],
   "source": [
    "H_x_giveny = -(p_xy * np.log(p_x_giveny + 1e-48)).sum()\n",
    "H_y_givenx = -(p_xy * np.log(p_y_givenx + 1e-48)).sum()\n",
    "print(\"H[x|y] = %.4f nats\" % (H_x_giveny))\n",
    "print(\"H[y|x] = %.4f nats\" % (H_y_givenx))"
   ]
  },
  {
   "cell_type": "markdown",
   "metadata": {},
   "source": [
    "### 5. Mutual information"
   ]
  },
  {
   "cell_type": "code",
   "execution_count": 14,
   "metadata": {},
   "outputs": [],
   "source": [
    "D_kl = (p_xy * (np.log(p_xy+1e-48)-np.log(np.matmul(p_x.reshape(-1,1),p_y.reshape(1,-1))+1e-48))).sum()\n",
    "I_xy = H_x - H_x_giveny"
   ]
  },
  {
   "cell_type": "code",
   "execution_count": 15,
   "metadata": {},
   "outputs": [
    {
     "name": "stdout",
     "output_type": "stream",
     "text": [
      "D_kl[p(x,y)||p(x)p(y)] = 0.1116\n",
      "I[x,y] = 0.1116\n"
     ]
    }
   ],
   "source": [
    "print(\"D_kl[p(x,y)||p(x)p(y)] = %.4f\" % D_kl)\n",
    "print(\"I[x,y] = %.4f\" % I_xy)"
   ]
  },
  {
   "cell_type": "markdown",
   "metadata": {},
   "source": [
    "### 7. Verification"
   ]
  },
  {
   "cell_type": "markdown",
   "metadata": {},
   "source": [
    "$$H[x,y] \\leq H[x] + H[y]$$"
   ]
  },
  {
   "cell_type": "code",
   "execution_count": 16,
   "metadata": {},
   "outputs": [
    {
     "name": "stdout",
     "output_type": "stream",
     "text": [
      "H[x,y] = 1.5048\n",
      "H[x] + H[y] = 1.6164\n"
     ]
    }
   ],
   "source": [
    "print(\"H[x,y] = %.4f\" % H_xy)\n",
    "print(\"H[x] + H[y] = %.4f\" % (H_x + H_y))"
   ]
  },
  {
   "cell_type": "markdown",
   "metadata": {},
   "source": [
    "$$H[x,y] = H[y|x] + H[x]$$"
   ]
  },
  {
   "cell_type": "code",
   "execution_count": 17,
   "metadata": {},
   "outputs": [
    {
     "name": "stdout",
     "output_type": "stream",
     "text": [
      "H[y|x] + H[x] = 1.5048\n",
      "H[x|y] + H[y] = 1.5048\n"
     ]
    }
   ],
   "source": [
    "print(\"H[y|x] + H[x] = %.4f\" % (H_y_givenx + H_x))\n",
    "print(\"H[x|y] + H[y] = %.4f\" % (H_x_giveny + H_y))"
   ]
  },
  {
   "cell_type": "markdown",
   "metadata": {},
   "source": [
    "$$D_{kl}(x||y) = I[x,y] = H[y] - H[y|x]$$"
   ]
  },
  {
   "cell_type": "code",
   "execution_count": 18,
   "metadata": {},
   "outputs": [
    {
     "name": "stdout",
     "output_type": "stream",
     "text": [
      "H[y]-H[y|x] = 0.1116\n",
      "H[x]-H[x|y] = 0.1116\n",
      "D_kl(x||y) = 0.1116\n",
      "I[x,y] = 0.1116\n"
     ]
    }
   ],
   "source": [
    "print(\"H[y]-H[y|x] = %.4f\" % (H_y - H_y_givenx))\n",
    "print(\"H[x]-H[x|y] = %.4f\" % (H_x - H_x_giveny))\n",
    "print(\"D_kl(x||y) = %.4f\" % D_kl)\n",
    "print(\"I[x,y] = %.4f\" % I_xy)"
   ]
  },
  {
   "cell_type": "code",
   "execution_count": null,
   "metadata": {},
   "outputs": [],
   "source": []
  }
 ],
 "metadata": {
  "kernelspec": {
   "display_name": "Python 3",
   "language": "python",
   "name": "python3"
  },
  "language_info": {
   "codemirror_mode": {
    "name": "ipython",
    "version": 3
   },
   "file_extension": ".py",
   "mimetype": "text/x-python",
   "name": "python",
   "nbconvert_exporter": "python",
   "pygments_lexer": "ipython3",
   "version": "3.6.5"
  }
 },
 "nbformat": 4,
 "nbformat_minor": 2
}
